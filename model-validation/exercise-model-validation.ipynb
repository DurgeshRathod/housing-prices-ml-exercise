{
 "cells": [
  {
   "cell_type": "markdown",
   "metadata": {},
   "source": [
    "**This notebook is an exercise in the [Introduction to Machine Learning](https://www.kaggle.com/learn/intro-to-machine-learning) course.  You can reference the tutorial at [this link](https://www.kaggle.com/dansbecker/model-validation).**\n",
    "\n",
    "---\n"
   ]
  },
  {
   "cell_type": "markdown",
   "metadata": {},
   "source": [
    "## Recap\n",
    "You've built a model. In this exercise you will test how good your model is.\n",
    "\n",
    "Run the cell below to set up your coding environment where the previous exercise left off."
   ]
  },
  {
   "cell_type": "code",
   "execution_count": 11,
   "metadata": {
    "execution": {
     "iopub.execute_input": "2023-04-25T16:14:26.100649Z",
     "iopub.status.busy": "2023-04-25T16:14:26.100196Z",
     "iopub.status.idle": "2023-04-25T16:14:26.891615Z",
     "shell.execute_reply": "2023-04-25T16:14:26.890383Z",
     "shell.execute_reply.started": "2023-04-25T16:14:26.100605Z"
    }
   },
   "outputs": [
    {
     "name": "stdout",
     "output_type": "stream",
     "text": [
      "First in-sample predictions: [208500. 181500. 223500. 140000. 250000.]\n",
      "Actual target values for those homes: [208500, 181500, 223500, 140000, 250000]\n",
      "Setup Complete\n"
     ]
    }
   ],
   "source": [
    "# Code you have previously used to load data\n",
    "import pandas as pd\n",
    "from sklearn.tree import DecisionTreeRegressor\n",
    "\n",
    "# Path of the file to read\n",
    "iowa_file_path = '../input/home-data-for-ml-course/train.csv'\n",
    "\n",
    "home_data = pd.read_csv(iowa_file_path)\n",
    "y = home_data.SalePrice\n",
    "feature_columns = ['LotArea', 'YearBuilt', '1stFlrSF', '2ndFlrSF', 'FullBath', 'BedroomAbvGr', 'TotRmsAbvGrd']\n",
    "X = home_data[feature_columns]\n",
    "\n",
    "# Specify Model\n",
    "iowa_model = DecisionTreeRegressor()\n",
    "# Fit Model\n",
    "iowa_model.fit(X, y)\n",
    "\n",
    "print(\"First in-sample predictions:\", iowa_model.predict(X.head()))\n",
    "print(\"Actual target values for those homes:\", y.head().tolist())\n",
    "\n",
    "# Set up code checking\n",
    "# from learntools.core import binder\n",
    "# binder.bind(globals())\n",
    "# from learntools.machine_learning.ex4 import *\n",
    "print(\"Setup Complete\")"
   ]
  },
  {
   "cell_type": "markdown",
   "metadata": {},
   "source": [
    "# Exercises\n",
    "\n",
    "## Step 1: Split Your Data\n",
    "Use the `train_test_split` function to split up your data.\n",
    "\n",
    "Give it the argument `random_state=1` so the `check` functions know what to expect when verifying your code.\n",
    "\n",
    "Recall, your features are loaded in the DataFrame **X** and your target is loaded in **y**.\n"
   ]
  },
  {
   "cell_type": "code",
   "execution_count": 12,
   "metadata": {
    "execution": {
     "iopub.execute_input": "2023-04-25T16:15:23.505582Z",
     "iopub.status.busy": "2023-04-25T16:15:23.505093Z",
     "iopub.status.idle": "2023-04-25T16:15:23.521928Z",
     "shell.execute_reply": "2023-04-25T16:15:23.520683Z",
     "shell.execute_reply.started": "2023-04-25T16:15:23.505538Z"
    }
   },
   "outputs": [],
   "source": [
    "# Import the train_test_split function and uncomment\n",
    "from sklearn.model_selection import train_test_split\n",
    "\n",
    "# fill in and uncomment\n",
    "train_X, val_X, train_y, val_y = train_test_split(X,y,random_state = 1)\n",
    "\n",
    "# Check your answer\n",
    "# step_1.check()"
   ]
  },
  {
   "cell_type": "code",
   "execution_count": 13,
   "metadata": {},
   "outputs": [],
   "source": [
    "# The lines below will show you a hint or the solution.\n",
    "# step_1.hint() \n",
    "# step_1.solution()\n"
   ]
  },
  {
   "cell_type": "markdown",
   "metadata": {},
   "source": [
    "## Step 2: Specify and Fit the Model\n",
    "\n",
    "Create a `DecisionTreeRegressor` model and fit it to the relevant data.\n",
    "Set `random_state` to 1 again when creating the model."
   ]
  },
  {
   "cell_type": "code",
   "execution_count": 14,
   "metadata": {
    "execution": {
     "iopub.execute_input": "2023-04-25T16:26:14.426828Z",
     "iopub.status.busy": "2023-04-25T16:26:14.426336Z",
     "iopub.status.idle": "2023-04-25T16:26:14.458679Z",
     "shell.execute_reply": "2023-04-25T16:26:14.457518Z",
     "shell.execute_reply.started": "2023-04-25T16:26:14.426785Z"
    }
   },
   "outputs": [
    {
     "data": {
      "text/html": [
       "<style>#sk-container-id-2 {color: black;background-color: white;}#sk-container-id-2 pre{padding: 0;}#sk-container-id-2 div.sk-toggleable {background-color: white;}#sk-container-id-2 label.sk-toggleable__label {cursor: pointer;display: block;width: 100%;margin-bottom: 0;padding: 0.3em;box-sizing: border-box;text-align: center;}#sk-container-id-2 label.sk-toggleable__label-arrow:before {content: \"▸\";float: left;margin-right: 0.25em;color: #696969;}#sk-container-id-2 label.sk-toggleable__label-arrow:hover:before {color: black;}#sk-container-id-2 div.sk-estimator:hover label.sk-toggleable__label-arrow:before {color: black;}#sk-container-id-2 div.sk-toggleable__content {max-height: 0;max-width: 0;overflow: hidden;text-align: left;background-color: #f0f8ff;}#sk-container-id-2 div.sk-toggleable__content pre {margin: 0.2em;color: black;border-radius: 0.25em;background-color: #f0f8ff;}#sk-container-id-2 input.sk-toggleable__control:checked~div.sk-toggleable__content {max-height: 200px;max-width: 100%;overflow: auto;}#sk-container-id-2 input.sk-toggleable__control:checked~label.sk-toggleable__label-arrow:before {content: \"▾\";}#sk-container-id-2 div.sk-estimator input.sk-toggleable__control:checked~label.sk-toggleable__label {background-color: #d4ebff;}#sk-container-id-2 div.sk-label input.sk-toggleable__control:checked~label.sk-toggleable__label {background-color: #d4ebff;}#sk-container-id-2 input.sk-hidden--visually {border: 0;clip: rect(1px 1px 1px 1px);clip: rect(1px, 1px, 1px, 1px);height: 1px;margin: -1px;overflow: hidden;padding: 0;position: absolute;width: 1px;}#sk-container-id-2 div.sk-estimator {font-family: monospace;background-color: #f0f8ff;border: 1px dotted black;border-radius: 0.25em;box-sizing: border-box;margin-bottom: 0.5em;}#sk-container-id-2 div.sk-estimator:hover {background-color: #d4ebff;}#sk-container-id-2 div.sk-parallel-item::after {content: \"\";width: 100%;border-bottom: 1px solid gray;flex-grow: 1;}#sk-container-id-2 div.sk-label:hover label.sk-toggleable__label {background-color: #d4ebff;}#sk-container-id-2 div.sk-serial::before {content: \"\";position: absolute;border-left: 1px solid gray;box-sizing: border-box;top: 0;bottom: 0;left: 50%;z-index: 0;}#sk-container-id-2 div.sk-serial {display: flex;flex-direction: column;align-items: center;background-color: white;padding-right: 0.2em;padding-left: 0.2em;position: relative;}#sk-container-id-2 div.sk-item {position: relative;z-index: 1;}#sk-container-id-2 div.sk-parallel {display: flex;align-items: stretch;justify-content: center;background-color: white;position: relative;}#sk-container-id-2 div.sk-item::before, #sk-container-id-2 div.sk-parallel-item::before {content: \"\";position: absolute;border-left: 1px solid gray;box-sizing: border-box;top: 0;bottom: 0;left: 50%;z-index: -1;}#sk-container-id-2 div.sk-parallel-item {display: flex;flex-direction: column;z-index: 1;position: relative;background-color: white;}#sk-container-id-2 div.sk-parallel-item:first-child::after {align-self: flex-end;width: 50%;}#sk-container-id-2 div.sk-parallel-item:last-child::after {align-self: flex-start;width: 50%;}#sk-container-id-2 div.sk-parallel-item:only-child::after {width: 0;}#sk-container-id-2 div.sk-dashed-wrapped {border: 1px dashed gray;margin: 0 0.4em 0.5em 0.4em;box-sizing: border-box;padding-bottom: 0.4em;background-color: white;}#sk-container-id-2 div.sk-label label {font-family: monospace;font-weight: bold;display: inline-block;line-height: 1.2em;}#sk-container-id-2 div.sk-label-container {text-align: center;}#sk-container-id-2 div.sk-container {/* jupyter's `normalize.less` sets `[hidden] { display: none; }` but bootstrap.min.css set `[hidden] { display: none !important; }` so we also need the `!important` here to be able to override the default hidden behavior on the sphinx rendered scikit-learn.org. See: https://github.com/scikit-learn/scikit-learn/issues/21755 */display: inline-block !important;position: relative;}#sk-container-id-2 div.sk-text-repr-fallback {display: none;}</style><div id=\"sk-container-id-2\" class=\"sk-top-container\"><div class=\"sk-text-repr-fallback\"><pre>DecisionTreeRegressor(max_leaf_nodes=100, random_state=1)</pre><b>In a Jupyter environment, please rerun this cell to show the HTML representation or trust the notebook. <br />On GitHub, the HTML representation is unable to render, please try loading this page with nbviewer.org.</b></div><div class=\"sk-container\" hidden><div class=\"sk-item\"><div class=\"sk-estimator sk-toggleable\"><input class=\"sk-toggleable__control sk-hidden--visually\" id=\"sk-estimator-id-2\" type=\"checkbox\" checked><label for=\"sk-estimator-id-2\" class=\"sk-toggleable__label sk-toggleable__label-arrow\">DecisionTreeRegressor</label><div class=\"sk-toggleable__content\"><pre>DecisionTreeRegressor(max_leaf_nodes=100, random_state=1)</pre></div></div></div></div></div>"
      ],
      "text/plain": [
       "DecisionTreeRegressor(max_leaf_nodes=100, random_state=1)"
      ]
     },
     "execution_count": 14,
     "metadata": {},
     "output_type": "execute_result"
    }
   ],
   "source": [
    "# You imported DecisionTreeRegressor in your last exercise\n",
    "# and that code has been copied to the setup code above. So, no need to\n",
    "# import it again\n",
    "from sklearn.tree import DecisionTreeRegressor\n",
    "# Specify the model\n",
    "iowa_model = DecisionTreeRegressor(random_state=1)\n",
    "\n",
    "# Fit iowa_model with the training data.\n",
    "iowa_model.fit(train_X, train_y)\n",
    "\n",
    "# Check your answer\n",
    "# step_2.check()"
   ]
  },
  {
   "cell_type": "code",
   "execution_count": 15,
   "metadata": {
    "execution": {
     "iopub.execute_input": "2023-04-25T16:25:17.571007Z",
     "iopub.status.busy": "2023-04-25T16:25:17.570014Z",
     "iopub.status.idle": "2023-04-25T16:25:17.580883Z",
     "shell.execute_reply": "2023-04-25T16:25:17.579502Z",
     "shell.execute_reply.started": "2023-04-25T16:25:17.570953Z"
    }
   },
   "outputs": [],
   "source": [
    "# step_2.hint()\n",
    "# step_2.solution()"
   ]
  },
  {
   "cell_type": "markdown",
   "metadata": {},
   "source": [
    "## Step 3: Make Predictions with Validation data\n"
   ]
  },
  {
   "cell_type": "code",
   "execution_count": 16,
   "metadata": {
    "execution": {
     "iopub.execute_input": "2023-04-25T16:27:36.143276Z",
     "iopub.status.busy": "2023-04-25T16:27:36.142832Z",
     "iopub.status.idle": "2023-04-25T16:27:36.164247Z",
     "shell.execute_reply": "2023-04-25T16:27:36.161472Z",
     "shell.execute_reply.started": "2023-04-25T16:27:36.143239Z"
    }
   },
   "outputs": [],
   "source": [
    "# Predict with all validation observations\n",
    "val_predictions = iowa_model.predict(val_X)\n",
    "\n",
    "# Check your answer\n",
    "# step_3.check()"
   ]
  },
  {
   "cell_type": "code",
   "execution_count": 17,
   "metadata": {
    "execution": {
     "iopub.execute_input": "2023-04-25T16:27:21.632858Z",
     "iopub.status.busy": "2023-04-25T16:27:21.632411Z",
     "iopub.status.idle": "2023-04-25T16:27:21.642857Z",
     "shell.execute_reply": "2023-04-25T16:27:21.641482Z",
     "shell.execute_reply.started": "2023-04-25T16:27:21.632817Z"
    }
   },
   "outputs": [],
   "source": [
    "# step_3.hint()\n",
    "# step_3.solution()"
   ]
  },
  {
   "cell_type": "markdown",
   "metadata": {},
   "source": [
    "Inspect your predictions and actual values from validation data."
   ]
  },
  {
   "cell_type": "code",
   "execution_count": 18,
   "metadata": {
    "execution": {
     "iopub.execute_input": "2023-04-25T16:29:16.782536Z",
     "iopub.status.busy": "2023-04-25T16:29:16.782126Z",
     "iopub.status.idle": "2023-04-25T16:29:16.794069Z",
     "shell.execute_reply": "2023-04-25T16:29:16.792841Z",
     "shell.execute_reply.started": "2023-04-25T16:29:16.782498Z"
    }
   },
   "outputs": [
    {
     "name": "stdout",
     "output_type": "stream",
     "text": [
      "[181225.35416667 173500.         122142.35714286  94060.\n",
      " 148515.31111111 262472.95454545 338689.66666667 144440.84210526\n",
      " 226811.45833333 211678.57142857 177621.25       107987.31343284\n",
      " 235183.         208100.         262472.95454545 107987.31343284\n",
      " 122142.35714286 148515.31111111 200250.         139105.5\n",
      " 139105.5        241547.375      211678.57142857 391967.33333333\n",
      " 107987.31343284 157283.91176471 152319.27586207 192722.44827586\n",
      " 572292.75       152319.27586207 127746.15384615 122142.35714286\n",
      " 122142.35714286 112800.         128999.51923077 386250.\n",
      " 107987.31343284 107987.31343284 327000.         124743.18181818\n",
      " 128999.51923077 128999.51923077 107987.31343284 107987.31343284\n",
      " 181225.35416667 177621.25        94060.         192722.44827586\n",
      " 235183.         263314.         122142.35714286 355033.33333333\n",
      "  76617.85714286 234387.03225806 192722.44827586 107987.31343284\n",
      " 122142.35714286 181225.35416667 128999.51923077 157283.91176471\n",
      " 177621.25       339214.33333333 107987.31343284 122142.35714286\n",
      " 177621.25       122142.35714286 117100.8        234387.03225806\n",
      " 148515.31111111 177621.25       159928.57142857 152319.27586207\n",
      " 338689.66666667 157283.91176471 128999.51923077 192722.44827586\n",
      " 181225.35416667 107987.31343284 295450.         192722.44827586\n",
      " 209718.18181818 152319.27586207 139105.5        148515.31111111\n",
      " 181225.35416667 148515.31111111 157283.91176471 192722.44827586\n",
      " 181225.35416667 198528.125      192722.44827586 148515.31111111\n",
      " 122142.35714286 148515.31111111 128999.51923077 117100.8\n",
      " 122142.35714286 128999.51923077 122142.35714286 148515.31111111\n",
      " 209718.18181818 139105.5        117100.8        122142.35714286\n",
      " 122142.35714286 162846.75       192722.44827586 127746.15384615\n",
      " 152319.27586207 290534.89473684 117100.8        157283.91176471\n",
      " 148515.31111111 192722.44827586 205665.27777778 181225.35416667\n",
      " 235183.         122142.35714286 204250.         177621.25\n",
      " 152319.27586207 235183.         290534.89473684 128999.51923077\n",
      " 283150.         148515.31111111 394812.         122142.35714286\n",
      " 157283.91176471 205665.27777778 279360.         122142.35714286\n",
      " 122142.35714286 112800.          76617.85714286 199974.375\n",
      " 755000.         147000.         226811.45833333 122142.35714286\n",
      " 124743.18181818 355033.33333333 128999.51923077 199974.375\n",
      " 152319.27586207 234387.03225806 112800.         227399.06666667\n",
      " 226811.45833333 122142.35714286 192722.44827586 181225.35416667\n",
      " 122142.35714286 181225.35416667 174816.66666667 338689.66666667\n",
      " 107987.31343284 148515.31111111 107987.31343284 139105.5\n",
      " 107987.31343284 113153.83333333 157283.91176471 139105.5\n",
      " 139105.5        148515.31111111 155252.35714286 152319.27586207\n",
      " 135383.33333333 124743.18181818 226811.45833333 162846.75\n",
      " 226811.45833333 386250.         181225.35416667 139105.5\n",
      " 209718.18181818 234387.03225806 124743.18181818 148515.31111111\n",
      " 122142.35714286 181225.35416667 135383.33333333 122142.35714286\n",
      " 278503.9375     198528.125      411197.33333333 290534.89473684\n",
      " 152319.27586207 122142.35714286 122142.35714286 177621.25\n",
      "  94060.         155252.35714286 122142.35714286 338689.66666667\n",
      " 262472.95454545 146488.88888889 146488.88888889  76617.85714286\n",
      " 181225.35416667 226811.45833333 177621.25       181225.35416667\n",
      " 318980.5        124743.18181818 192722.44827586 339214.33333333\n",
      " 256000.         280000.         181225.35416667 122142.35714286\n",
      " 155252.35714286 122142.35714286 278503.9375     234387.03225806\n",
      " 122142.35714286 107987.31343284 177621.25        94060.\n",
      " 755000.         122142.35714286 155252.35714286 148515.31111111\n",
      " 107987.31343284 122142.35714286 181225.35416667 192722.44827586\n",
      " 181225.35416667 181225.35416667 124743.18181818 174816.66666667\n",
      " 107987.31343284 128999.51923077 262472.95454545 151572.8\n",
      " 290534.89473684 122142.35714286 204250.         290534.89473684\n",
      " 278503.9375     157283.91176471 122142.35714286 173500.\n",
      " 122142.35714286 127746.15384615 148515.31111111 152319.27586207\n",
      " 148515.31111111 122142.35714286 122142.35714286 139105.5\n",
      " 181225.35416667 148515.31111111 135383.33333333 107987.31343284\n",
      " 192722.44827586  94060.         391967.33333333 122142.35714286\n",
      " 192722.44827586 245416.66666667 205665.27777778 192722.44827586\n",
      "  94060.         177621.25       122142.35714286 122142.35714286\n",
      " 148515.31111111  94060.         152319.27586207 181225.35416667\n",
      " 124743.18181818 144440.84210526 157283.91176471 128999.51923077\n",
      "  94060.         122142.35714286 198528.125      128999.51923077\n",
      " 152319.27586207 148515.31111111 124743.18181818 148515.31111111\n",
      " 226811.45833333 227399.06666667 152319.27586207 122142.35714286\n",
      " 262472.95454545 107987.31343284 107987.31343284 279360.\n",
      " 127746.15384615 117100.8        192722.44827586 230259.8\n",
      " 181225.35416667 226811.45833333 148515.31111111 107987.31343284\n",
      " 148515.31111111 144440.84210526 128999.51923077 177621.25\n",
      " 200250.         208100.         148515.31111111 152319.27586207\n",
      " 151572.8        192722.44827586 148515.31111111 157283.91176471\n",
      " 107987.31343284 262472.95454545 152319.27586207 107987.31343284\n",
      " 234387.03225806 181175.         177621.25       177621.25\n",
      " 181225.35416667 198528.125      128999.51923077 222250.\n",
      " 128999.51923077 338689.66666667 192722.44827586 234387.03225806\n",
      " 152319.27586207 152319.27586207 139105.5        177621.25\n",
      " 234387.03225806 278503.9375     181225.35416667 151572.8\n",
      " 139105.5        148515.31111111 290534.89473684 181225.35416667\n",
      " 211678.57142857 177621.25        76617.85714286 227399.06666667\n",
      " 107987.31343284 148515.31111111 146488.88888889 148515.31111111\n",
      " 235183.         112800.         144440.84210526 144440.84210526\n",
      " 411197.33333333 128999.51923077 146488.88888889 135383.33333333\n",
      " 205665.27777778 144440.84210526 122142.35714286 290534.89473684\n",
      " 113153.83333333 181225.35416667 152319.27586207 262472.95454545\n",
      " 198528.125     ]\n",
      "258     231500\n",
      "267     179500\n",
      "288     122000\n",
      "649      84500\n",
      "1233    142000\n",
      "         ...  \n",
      "1017    187500\n",
      "534     178000\n",
      "1334    125000\n",
      "1369    232000\n",
      "628     135000\n",
      "Name: SalePrice, Length: 365, dtype: int64\n"
     ]
    }
   ],
   "source": [
    "# print the top few validation predictions\n",
    "print(val_predictions)\n",
    "# print the top few actual prices from validation data\n",
    "print(val_y)"
   ]
  },
  {
   "cell_type": "markdown",
   "metadata": {},
   "source": [
    "What do you notice that is different from what you saw with in-sample predictions (which are printed after the top code cell in this page).\n",
    "\n",
    "Do you remember why validation predictions differ from in-sample (or training) predictions? This is an important idea from the last lesson.\n",
    "\n",
    "## Step 4: Calculate the Mean Absolute Error in Validation Data\n"
   ]
  },
  {
   "cell_type": "code",
   "execution_count": 19,
   "metadata": {
    "execution": {
     "iopub.execute_input": "2023-04-25T16:29:50.560776Z",
     "iopub.status.busy": "2023-04-25T16:29:50.560333Z",
     "iopub.status.idle": "2023-04-25T16:29:50.573188Z",
     "shell.execute_reply": "2023-04-25T16:29:50.571824Z",
     "shell.execute_reply.started": "2023-04-25T16:29:50.560737Z"
    }
   },
   "outputs": [
    {
     "name": "stdout",
     "output_type": "stream",
     "text": [
      "27282.50803885739\n"
     ]
    }
   ],
   "source": [
    "from sklearn.metrics import mean_absolute_error\n",
    "val_mae = mean_absolute_error(val_y,val_predictions)\n",
    "\n",
    "# uncomment following line to see the validation_mae\n",
    "print(val_mae)\n",
    "\n",
    "# Check your answer\n",
    "# step_4.check()"
   ]
  },
  {
   "cell_type": "code",
   "execution_count": 10,
   "metadata": {},
   "outputs": [],
   "source": [
    "# step_4.hint()\n",
    "# step_4.solution()"
   ]
  },
  {
   "cell_type": "markdown",
   "metadata": {},
   "source": [
    "Is that MAE good?  There isn't a general rule for what values are good that applies across applications. But you'll see how to use (and improve) this number in the next step.\n",
    "\n",
    "# Keep Going\n",
    "\n",
    "You are ready for **[Underfitting and Overfitting](https://www.kaggle.com/dansbecker/underfitting-and-overfitting).**\n"
   ]
  },
  {
   "cell_type": "markdown",
   "metadata": {},
   "source": [
    "---\n",
    "\n",
    "\n",
    "\n",
    "\n",
    "*Have questions or comments? Visit the [course discussion forum](https://www.kaggle.com/learn/intro-to-machine-learning/discussion) to chat with other learners.*"
   ]
  }
 ],
 "metadata": {
  "kernelspec": {
   "display_name": "Python 3 (ipykernel)",
   "language": "python",
   "name": "python3"
  },
  "language_info": {
   "codemirror_mode": {
    "name": "ipython",
    "version": 3
   },
   "file_extension": ".py",
   "mimetype": "text/x-python",
   "name": "python",
   "nbconvert_exporter": "python",
   "pygments_lexer": "ipython3",
   "version": "3.10.9"
  }
 },
 "nbformat": 4,
 "nbformat_minor": 4
}
